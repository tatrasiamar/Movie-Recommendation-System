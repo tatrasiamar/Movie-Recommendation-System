import pandas as pd
import pandas as pd
movies=pd.read_csv('dataset.csv')
movies.head()
movies.describe()
movies.info()
movies.isnull().sum()
movies.columns
movies=movies[['id','title','genres','overview']]
movies
movies['tags']=movies['overview']+movies['genres']
movies
new_data=movies.drop(columns=['overview','genres'])
new_data
from sklearn.feature_extraction.text import CountVectorizer
cv=CountVectorizer(max_features=1000,stop_words='english')
cv
vector=cv.fit_transform(new_data['tags'].values.astype('U')).toarray()
vector.shape
from sklearn.metrics.pairwise import cosine_similarity

similarity=cosine_similarity(vector)
similarity
index=0
new_data[new_data['title'] == "Mr.Wonderful"].index
index=0
distance = sorted(list(enumerate(similarity[index])), reverse=True, key=lambda vector:vector[0])
for i in distance[0:5]:
    print(new_data.iloc[i[0]].title)
def recommand(movies):
  index=new_data[new_data['title']==movies].index[0]
  distance=sorted(list(enumerate(similarity[index])),reverse=True,key=lambda vector:vector[1])
  for i in distance[0:5]:
     print(new_data.iloc[i[0]].title)
recommand("Jumanji")
import pickle
pickle.dump(new_data,open('movies_list.pk1','wb'))
pickle.dump(similarity,open('similarity.pk1','wb'))
pickle.load(open('movies_list.pk1','rb'))
